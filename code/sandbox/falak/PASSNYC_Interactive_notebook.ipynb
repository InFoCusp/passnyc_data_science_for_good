{
 "cells": [
  {
   "cell_type": "code",
   "execution_count": 1,
   "metadata": {},
   "outputs": [],
   "source": [
    "%matplotlib inline\n",
    "\n",
    "import pandas as pd\n",
    "import numpy as np\n",
    "from matplotlib import pyplot as plt\n",
    "from collections import Counter\n",
    "import folium\n",
    "import sklearn\n",
    "import seaborn as sns\n",
    "from IPython.core.display import display, HTML\n",
    "import ipywidgets as widgets\n",
    "from IPython.display import clear_output\n",
    "import itertools"
   ]
  },
  {
   "cell_type": "code",
   "execution_count": 2,
   "metadata": {},
   "outputs": [],
   "source": [
    "def percent_to_int(df_in):\n",
    "    for col in df_in.columns.values:\n",
    "        if col.startswith(\"Percent\") or col.endswith(\"%\") or col.endswith(\"Rate\"):\n",
    "            df_in[col] = df_in[col].astype(np.object).str.replace('%', '').astype(float)\n",
    "    return df_in"
   ]
  },
  {
   "cell_type": "code",
   "execution_count": 3,
   "metadata": {},
   "outputs": [],
   "source": [
    "df_schools_raw = pd.read_csv('../../../input/2016 School Explorer.csv')\n",
    "df_schools_raw = df_schools_raw[df_schools_raw['Grade High'] != '0K']\n",
    "df_schools_raw = percent_to_int(df_schools_raw)\n",
    "df_schools_raw['School Income Estimate'] = df_schools_raw['School Income Estimate'].astype(np.object).str.replace('$', '').str.replace(',', '').str.replace('.', '').astype(float)"
   ]
  },
  {
   "cell_type": "code",
   "execution_count": 4,
   "metadata": {},
   "outputs": [
    {
     "name": "stdout",
     "output_type": "stream",
     "text": [
      "(1270, 161)\n"
     ]
    }
   ],
   "source": [
    "print df_schools_raw.shape"
   ]
  },
  {
   "cell_type": "code",
   "execution_count": 5,
   "metadata": {
    "scrolled": true
   },
   "outputs": [
    {
     "name": "stdout",
     "output_type": "stream",
     "text": [
      "(829, 161)\n"
     ]
    }
   ],
   "source": [
    "df_schools_minor = df_schools_raw[df_schools_raw['Percent Black / Hispanic'].astype(int)>70]\n",
    "print(df_schools_minor.shape)"
   ]
  },
  {
   "cell_type": "code",
   "execution_count": 6,
   "metadata": {},
   "outputs": [],
   "source": [
    "def grade_minority_percent_4s (df, grade, subject, thres_total_4s, thres_minority):\n",
    "    out_field = ('Grade %d %s Minority 4s')%(grade, subject)\n",
    "    num1 = ('Grade %d %s 4s - Black or African American')%(grade, subject)\n",
    "    num2 = ('Grade %d %s 4s - Hispanic or Latino')%(grade, subject)\n",
    "    den = ('Grade %d %s 4s - All Students')%(grade, subject)\n",
    "\n",
    "    df = df[df[den].astype(int)>thres_total_4s]\n",
    "    df[out_field] = (df[num1] + df[num2])/(df[den])\n",
    "    grade_minority_df = df[df[out_field]>thres_minority]\n",
    "\n",
    "    df_html = grade_minority_df[['Location Code','School Name', out_field, num1, num2, den]].head().to_html()\n",
    "    display(HTML(df_html))\n",
    "\n",
    "    return df"
   ]
  },
  {
   "cell_type": "code",
   "execution_count": 7,
   "metadata": {},
   "outputs": [],
   "source": [
    "def compute_4s_minority_states():\n",
    "    grade = int(toggle.value.split(\" \")[1])\n",
    "    subjects = ['ELA', 'Math']\n",
    "\n",
    "    plt.figure(figsize=[19,10])\n",
    "    df_all_schools = pd.DataFrame(columns=df_schools_minor.columns)\n",
    "    column_list = []\n",
    "\n",
    "    for subject in subjects:\n",
    "        df_all_schools = grade_minority_percent_4s(df_schools_minor, grade, subject, thres_total_4s.value, thres_minority.value)\n",
    "        out_field = ('Grade %d %s Minority 4s')%(grade, subject)\n",
    "        num1 = ('Grade %d %s 4s - Black or African American')%(grade, subject)\n",
    "        num2 = ('Grade %d %s 4s - Hispanic or Latino')%(grade, subject)\n",
    "        den = ('Grade %d %s 4s - All Students')%(grade, subject)"
   ]
  },
  {
   "cell_type": "code",
   "execution_count": 8,
   "metadata": {},
   "outputs": [],
   "source": [
    "style = {'description_width': 'initial'}\n",
    "\n",
    "def on_value_change(change):\n",
    "    clear_output()\n",
    "    display(thres_total_4s)\n",
    "    display(thres_minority)\n",
    "    display(toggle)\n",
    "    compute_4s_minority_states()\n",
    "    \n",
    "thres_total_4s = widgets.IntSlider(\n",
    "    value = 5,\n",
    "    min=0,\n",
    "    max=20,\n",
    "    step=1,\n",
    "    description='Total Students with 4s',\n",
    "    style=style,\n",
    "    disabled=False,\n",
    "    continuous_update=False,\n",
    "    orientation='horizontal',\n",
    "    readout=True,\n",
    "    readout_format='d'\n",
    ")\n",
    "thres_total_4s.observe(on_value_change, names='value')\n",
    "# display(thres_total_4s)\n",
    "\n",
    "thres_minority = widgets.FloatSlider(\n",
    "    value=0.7,\n",
    "    min=0,\n",
    "    max=1.0,\n",
    "    step=0.05,\n",
    "    description='Ratio of minority students',\n",
    "    style=style,\n",
    "    disabled=False,\n",
    "    continuous_update=False,\n",
    "    orientation='horizontal',\n",
    "    readout=True,\n",
    "    readout_format='.2f',\n",
    ")\n",
    "thres_minority.observe(on_value_change, names='value')\n",
    "# display(thres_minority)"
   ]
  },
  {
   "cell_type": "code",
   "execution_count": 12,
   "metadata": {},
   "outputs": [],
   "source": [
    "toggle = widgets.ToggleButtons(\n",
    "    options=['Grade 5', 'Grade 6', 'Grade 7', 'Grade 8'],\n",
    "    value='Grade 8',\n",
    "    description='Grades:',\n",
    "    disabled=False,\n",
    "    button_style='info', # 'success', 'info', 'warning', 'danger' or ''\n",
    "    tooltips=['Info. about Grade 5', 'Info. about Grade 6', 'Info. about Grade 7', 'Info. about Grade 8'],\n",
    "#     icons=['check'] * 3\n",
    ")"
   ]
  },
  {
   "cell_type": "code",
   "execution_count": 13,
   "metadata": {},
   "outputs": [
    {
     "data": {
      "application/vnd.jupyter.widget-view+json": {
       "model_id": "e2fd78b41dbe40e796e629d47658d971",
       "version_major": 2,
       "version_minor": 0
      },
      "text/html": [
       "<p>Failed to display Jupyter Widget of type <code>IntSlider</code>.</p>\n",
       "<p>\n",
       "  If you're reading this message in the Jupyter Notebook or JupyterLab Notebook, it may mean\n",
       "  that the widgets JavaScript is still loading. If this message persists, it\n",
       "  likely means that the widgets JavaScript library is either not installed or\n",
       "  not enabled. See the <a href=\"https://ipywidgets.readthedocs.io/en/stable/user_install.html\">Jupyter\n",
       "  Widgets Documentation</a> for setup instructions.\n",
       "</p>\n",
       "<p>\n",
       "  If you're reading this message in another frontend (for example, a static\n",
       "  rendering on GitHub or <a href=\"https://nbviewer.jupyter.org/\">NBViewer</a>),\n",
       "  it may mean that your frontend doesn't currently support widgets.\n",
       "</p>\n"
      ],
      "text/plain": [
       "IntSlider(value=16, continuous_update=False, description=u'Total Students with 4s', max=20, style=SliderStyle(description_width=u'initial'))"
      ]
     },
     "metadata": {},
     "output_type": "display_data"
    },
    {
     "data": {
      "application/vnd.jupyter.widget-view+json": {
       "model_id": "e9e3a27df9a5445ca4d2a6ab493667ad",
       "version_major": 2,
       "version_minor": 0
      },
      "text/html": [
       "<p>Failed to display Jupyter Widget of type <code>FloatSlider</code>.</p>\n",
       "<p>\n",
       "  If you're reading this message in the Jupyter Notebook or JupyterLab Notebook, it may mean\n",
       "  that the widgets JavaScript is still loading. If this message persists, it\n",
       "  likely means that the widgets JavaScript library is either not installed or\n",
       "  not enabled. See the <a href=\"https://ipywidgets.readthedocs.io/en/stable/user_install.html\">Jupyter\n",
       "  Widgets Documentation</a> for setup instructions.\n",
       "</p>\n",
       "<p>\n",
       "  If you're reading this message in another frontend (for example, a static\n",
       "  rendering on GitHub or <a href=\"https://nbviewer.jupyter.org/\">NBViewer</a>),\n",
       "  it may mean that your frontend doesn't currently support widgets.\n",
       "</p>\n"
      ],
      "text/plain": [
       "FloatSlider(value=0.25, continuous_update=False, description=u'Ratio of minority students', max=1.0, step=0.05, style=SliderStyle(description_width=u'initial'))"
      ]
     },
     "metadata": {},
     "output_type": "display_data"
    },
    {
     "data": {
      "application/vnd.jupyter.widget-view+json": {
       "model_id": "b61ee99721574a75a3faa87b70b94190",
       "version_major": 2,
       "version_minor": 0
      },
      "text/html": [
       "<p>Failed to display Jupyter Widget of type <code>ToggleButtons</code>.</p>\n",
       "<p>\n",
       "  If you're reading this message in the Jupyter Notebook or JupyterLab Notebook, it may mean\n",
       "  that the widgets JavaScript is still loading. If this message persists, it\n",
       "  likely means that the widgets JavaScript library is either not installed or\n",
       "  not enabled. See the <a href=\"https://ipywidgets.readthedocs.io/en/stable/user_install.html\">Jupyter\n",
       "  Widgets Documentation</a> for setup instructions.\n",
       "</p>\n",
       "<p>\n",
       "  If you're reading this message in another frontend (for example, a static\n",
       "  rendering on GitHub or <a href=\"https://nbviewer.jupyter.org/\">NBViewer</a>),\n",
       "  it may mean that your frontend doesn't currently support widgets.\n",
       "</p>\n"
      ],
      "text/plain": [
       "ToggleButtons(button_style=u'info', description=u'Grades:', options=('Grade 5', 'Grade 6', 'Grade 7', 'Grade 8'), tooltips=[u'Info. about Grade 5', u'Info. about Grade 6', u'Info. about Grade 7', u'Info. about Grade 8'], value='Grade 5')"
      ]
     },
     "metadata": {},
     "output_type": "display_data"
    },
    {
     "name": "stderr",
     "output_type": "stream",
     "text": [
      "/usr/local/lib/python2.7/dist-packages/ipykernel_launcher.py:8: SettingWithCopyWarning: \n",
      "A value is trying to be set on a copy of a slice from a DataFrame.\n",
      "Try using .loc[row_indexer,col_indexer] = value instead\n",
      "\n",
      "See the caveats in the documentation: http://pandas.pydata.org/pandas-docs/stable/indexing.html#indexing-view-versus-copy\n",
      "  \n"
     ]
    },
    {
     "data": {
      "text/html": [
       "<table border=\"1\" class=\"dataframe\">\n",
       "  <thead>\n",
       "    <tr style=\"text-align: right;\">\n",
       "      <th></th>\n",
       "      <th>Location Code</th>\n",
       "      <th>School Name</th>\n",
       "      <th>Grade 5 ELA Minority 4s</th>\n",
       "      <th>Grade 5 ELA 4s - Black or African American</th>\n",
       "      <th>Grade 5 ELA 4s - Hispanic or Latino</th>\n",
       "      <th>Grade 5 ELA 4s - All Students</th>\n",
       "    </tr>\n",
       "  </thead>\n",
       "  <tbody>\n",
       "    <tr>\n",
       "      <th>263</th>\n",
       "      <td>09X053</td>\n",
       "      <td>P.S. 053 BASHEER QUISIM</td>\n",
       "      <td>0.958333</td>\n",
       "      <td>11</td>\n",
       "      <td>12</td>\n",
       "      <td>24</td>\n",
       "    </tr>\n",
       "    <tr>\n",
       "      <th>311</th>\n",
       "      <td>10X007</td>\n",
       "      <td>MILTON FEIN SCHOOL</td>\n",
       "      <td>0.740741</td>\n",
       "      <td>7</td>\n",
       "      <td>13</td>\n",
       "      <td>27</td>\n",
       "    </tr>\n",
       "    <tr>\n",
       "      <th>330</th>\n",
       "      <td>10X086</td>\n",
       "      <td>P.S. 086 KINGSBRIDGE HEIGHTS</td>\n",
       "      <td>0.909091</td>\n",
       "      <td>3</td>\n",
       "      <td>17</td>\n",
       "      <td>22</td>\n",
       "    </tr>\n",
       "    <tr>\n",
       "      <th>378</th>\n",
       "      <td>11X096</td>\n",
       "      <td>P.S. 096 RICHARD RODGERS</td>\n",
       "      <td>0.722222</td>\n",
       "      <td>5</td>\n",
       "      <td>8</td>\n",
       "      <td>18</td>\n",
       "    </tr>\n",
       "    <tr>\n",
       "      <th>389</th>\n",
       "      <td>11X153</td>\n",
       "      <td>P.S. 153 HELEN KELLER</td>\n",
       "      <td>0.600000</td>\n",
       "      <td>10</td>\n",
       "      <td>2</td>\n",
       "      <td>20</td>\n",
       "    </tr>\n",
       "  </tbody>\n",
       "</table>"
      ],
      "text/plain": [
       "<IPython.core.display.HTML object>"
      ]
     },
     "metadata": {},
     "output_type": "display_data"
    },
    {
     "data": {
      "text/html": [
       "<table border=\"1\" class=\"dataframe\">\n",
       "  <thead>\n",
       "    <tr style=\"text-align: right;\">\n",
       "      <th></th>\n",
       "      <th>Location Code</th>\n",
       "      <th>School Name</th>\n",
       "      <th>Grade 5 Math Minority 4s</th>\n",
       "      <th>Grade 5 Math 4s - Black or African American</th>\n",
       "      <th>Grade 5 Math 4s - Hispanic or Latino</th>\n",
       "      <th>Grade 5 Math 4s - All Students</th>\n",
       "    </tr>\n",
       "  </thead>\n",
       "  <tbody>\n",
       "    <tr>\n",
       "      <th>113</th>\n",
       "      <td>04M083</td>\n",
       "      <td>P.S. 083 LUIS MUNOZ RIVERA</td>\n",
       "      <td>0.705882</td>\n",
       "      <td>1</td>\n",
       "      <td>11</td>\n",
       "      <td>17</td>\n",
       "    </tr>\n",
       "    <tr>\n",
       "      <th>221</th>\n",
       "      <td>08X036</td>\n",
       "      <td>P.S. 036 UNIONPORT</td>\n",
       "      <td>0.600000</td>\n",
       "      <td>1</td>\n",
       "      <td>11</td>\n",
       "      <td>20</td>\n",
       "    </tr>\n",
       "    <tr>\n",
       "      <th>311</th>\n",
       "      <td>10X007</td>\n",
       "      <td>MILTON FEIN SCHOOL</td>\n",
       "      <td>0.575758</td>\n",
       "      <td>6</td>\n",
       "      <td>13</td>\n",
       "      <td>33</td>\n",
       "    </tr>\n",
       "    <tr>\n",
       "      <th>325</th>\n",
       "      <td>10X056</td>\n",
       "      <td>P.S. 056 NORWOOD HEIGHTS</td>\n",
       "      <td>0.529412</td>\n",
       "      <td>1</td>\n",
       "      <td>8</td>\n",
       "      <td>17</td>\n",
       "    </tr>\n",
       "    <tr>\n",
       "      <th>330</th>\n",
       "      <td>10X086</td>\n",
       "      <td>P.S. 086 KINGSBRIDGE HEIGHTS</td>\n",
       "      <td>0.809524</td>\n",
       "      <td>2</td>\n",
       "      <td>32</td>\n",
       "      <td>42</td>\n",
       "    </tr>\n",
       "  </tbody>\n",
       "</table>"
      ],
      "text/plain": [
       "<IPython.core.display.HTML object>"
      ]
     },
     "metadata": {},
     "output_type": "display_data"
    },
    {
     "data": {
      "text/plain": [
       "<matplotlib.figure.Figure at 0x7f4c61c2ed50>"
      ]
     },
     "metadata": {},
     "output_type": "display_data"
    }
   ],
   "source": [
    "display(toggle)\n",
    "display(thres_total_4s)\n",
    "display(thres_minority)\n",
    "\n",
    "compute_4s_minority_states()\n",
    "\n",
    "def on_click(change):\n",
    "    clear_output()\n",
    "    \n",
    "    display(thres_total_4s)\n",
    "    display(thres_minority)\n",
    "    display(toggle)\n",
    "    \n",
    "    compute_4s_minority_states()\n",
    "    \n",
    "toggle.observe(on_click, 'value')"
   ]
  }
 ],
 "metadata": {
  "kernelspec": {
   "display_name": "Python 2",
   "language": "python",
   "name": "python2"
  },
  "language_info": {
   "codemirror_mode": {
    "name": "ipython",
    "version": 2
   },
   "file_extension": ".py",
   "mimetype": "text/x-python",
   "name": "python",
   "nbconvert_exporter": "python",
   "pygments_lexer": "ipython2",
   "version": "2.7.6"
  }
 },
 "nbformat": 4,
 "nbformat_minor": 2
}
