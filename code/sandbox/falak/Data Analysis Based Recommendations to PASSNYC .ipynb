{
 "cells": [
  {
   "cell_type": "markdown",
   "metadata": {},
   "source": [
    "Understanding the objective:\n",
    "\n",
    "> Which schools have students that would benefit from outreach services and lead to a more diverse group of students taking the SHSAT and being accepted into New York City's Specialized High Schools.\n",
    "                                                            - Chris Crawford, Kaggle Team\n",
    "\n",
    " \n",
    "\n",
    "> Only a third (roughly) of eligible students take the SHSAT, and our goal is to drive more test takers (you can't get in if you don't sit for the test!). The education space is full of non-profits like ours with limited resources. So the research question is, given limited resources, where (at which schools) can you target your intervention efforts to make an impact on those participation numbers. The hypothesis is that using what we know about students/schools who do take the test, we can find similar students/schools and rank them on their likelihood/opportunity of converting into test-takers\n",
    "                                                             - Max B, Dataset Creator\n",
    "\n",
    "\n",
    "\n",
    "*Submissions for the Main Prize Track will be judged based on the following general criteria:*\n",
    "* Performance - How well does the solution match schools and the needs of students to PASSNYC services? PASSNYC will not be able to live test every submission, so a strong entry will clearly articulate why it is effective at tackling the problem.\n",
    "* Influential - The PASSNYC team wants to put the winning submissions to work quickly. Therefore a good entry will be easy to understand and will enable PASSNYC to convince stakeholders where services are needed the most.\n",
    "* Shareable - PASSNYC works with over 60 partner organizations to offer services such as test preparation, tutoring, mentoring, extracurricular programs, educational consultants, community and student groups, trade associations, and more. Winning submissions will be able to provide convincing insights to a wide subset of these organizations. "
   ]
  },
  {
   "cell_type": "code",
   "execution_count": 1,
   "metadata": {},
   "outputs": [],
   "source": [
    "%matplotlib inline\n",
    "\n",
    "import pandas as pd\n",
    "import numpy as np\n",
    "from matplotlib import pyplot as plt\n",
    "import itertools"
   ]
  },
  {
   "cell_type": "code",
   "execution_count": 17,
   "metadata": {},
   "outputs": [],
   "source": [
    "def percent_to_int(df_in):\n",
    "    for col in df_in.columns.values:\n",
    "        if col.startswith(\"Percent\") or col.endswith(\"%\") or col.endswith(\"Rate\"):\n",
    "            df_in[col] = df_in[col].astype(np.object).str.replace('%', '').astype(float)\n",
    "    return df_in"
   ]
  },
  {
   "cell_type": "code",
   "execution_count": 3,
   "metadata": {},
   "outputs": [
    {
     "name": "stdout",
     "output_type": "stream",
     "text": [
      "We have 626 relevant schools and 158 fields describing the school/ students\n"
     ]
    }
   ],
   "source": [
    "df_schools_raw = pd.read_csv('../../../input/2016 School Explorer.csv')\n",
    "df_schools_raw = df_schools_raw[df_schools_raw['Grade High'] != '0K']\n",
    "df_schools_raw = percent_to_int(df_schools_raw)\n",
    "df_schools_raw['School Income Estimate'] = df_schools_raw['School Income Estimate'].astype(np.object).str.replace('$', '').str.replace(',', '').str.replace('.', '').astype(float)\n",
    "\n",
    "df_schools_relevant_grade = df_schools_raw[df_schools_raw['Grade High'].astype(int) > 5]\n",
    "\n",
    "df_schools.replace(np.NaN,0, inplace=True)\n",
    "print(\"We have %d relevant schools and %d fields describing the school/ students\"%(df_schools.shape))\n",
    "\n",
    "\n",
    "\n",
    "df = pd.read_csv('../../../input/2017-2018 SHSAT Admissions Test Offers By Sending School.csv')\n",
    "df = percent_to_int(df)\n",
    "df.replace(np.NaN,0, inplace=True)"
   ]
  },
  {
   "cell_type": "code",
   "execution_count": 4,
   "metadata": {},
   "outputs": [
    {
     "data": {
      "text/plain": [
       "<matplotlib.text.Text at 0x7f745689bcd0>"
      ]
     },
     "execution_count": 4,
     "metadata": {},
     "output_type": "execute_result"
    },
    {
     "data": {
      "image/png": "[encoded data removed]",
      "text/plain": [
       "<matplotlib.figure.Figure at 0x7f7456b41590>"
      ]
     },
     "metadata": {},
     "output_type": "display_data"
    }
   ],
   "source": [
    "plt.figure(figsize=[8,6])\n",
    "plt.scatter(df['Percentage of Black/Hispanic students'], df['Number of students who took test'])\n",
    "plt.xlabel('Percentage of Black/Hispanic students')\n",
    "plt.ylabel('Number of students who took test')"
   ]
  },
  {
   "cell_type": "code",
   "execution_count": 5,
   "metadata": {},
   "outputs": [],
   "source": [
    "\n",
    "dfshort = df[df['Percentage of Black/Hispanic students']>80]\n",
    "dfshort = dfshort[dfshort['Number of students who took test']<50]"
   ]
  },
  {
   "cell_type": "code",
   "execution_count": null,
   "metadata": {},
   "outputs": [],
   "source": []
  },
  {
   "cell_type": "code",
   "execution_count": 6,
   "metadata": {},
   "outputs": [],
   "source": [
    "dfshort.drop(['Borough','School Category','School Name'], axis=1, inplace=True)\n",
    "\n",
    "dfmerged = pd.merge(df_schools, dfshort, how='outer', left_on='Location Code' ,right_on='School DBN')"
   ]
  },
  {
   "cell_type": "code",
   "execution_count": 7,
   "metadata": {},
   "outputs": [
    {
     "data": {
      "text/plain": [
       "(647, 164)"
      ]
     },
     "execution_count": 7,
     "metadata": {},
     "output_type": "execute_result"
    }
   ],
   "source": [
    "dfmerged.shape"
   ]
  },
  {
   "cell_type": "code",
   "execution_count": 8,
   "metadata": {},
   "outputs": [
    {
     "data": {
      "text/plain": [
       "328"
      ]
     },
     "execution_count": 8,
     "metadata": {},
     "output_type": "execute_result"
    }
   ],
   "source": [
    "len(set(df_schools['Location Code']).intersection(set(dfshort['School DBN'])))"
   ]
  },
  {
   "cell_type": "code",
   "execution_count": 9,
   "metadata": {},
   "outputs": [
    {
     "data": {
      "text/plain": [
       "647"
      ]
     },
     "execution_count": 9,
     "metadata": {},
     "output_type": "execute_result"
    }
   ],
   "source": [
    "len(set(df_schools['Location Code']).union(set(dfshort['School DBN'])))"
   ]
  },
  {
   "cell_type": "code",
   "execution_count": 10,
   "metadata": {},
   "outputs": [],
   "source": [
    "dfmerged.dropna(inplace=True)"
   ]
  },
  {
   "cell_type": "code",
   "execution_count": 11,
   "metadata": {},
   "outputs": [],
   "source": [
    "def grade_minority_percent_4s (df, grade, subject):\n",
    "    out_field = ('Grade %d %s Minority 4s')%(grade, subject)\n",
    "    num1 = ('Grade %d %s 4s - Black or African American')%(grade, subject)\n",
    "    num2 = ('Grade %d %s 4s - Hispanic or Latino')%(grade, subject)\n",
    "    den = ('Grade %d %s 4s - All Students')%(grade, subject)\n",
    "    df = df[df[den].astype(int)>7]\n",
    "    df[out_field] = (df[num1] + df[num2])/(df[den])\n",
    "    grade_minority_df = df[df[out_field]>0.7]\n",
    "    print(grade, subject, df.shape, grade_minority_df.shape, (grade_minority_df[num1] + grade_minority_df[num2]).mean(), df[num1].mean(), df[num2].mean())\n",
    "    return df"
   ]
  },
  {
   "cell_type": "code",
   "execution_count": 12,
   "metadata": {},
   "outputs": [
    {
     "name": "stderr",
     "output_type": "stream",
     "text": [
      "/usr/local/lib/python2.7/dist-packages/ipykernel_launcher.py:7: SettingWithCopyWarning: \n",
      "A value is trying to be set on a copy of a slice from a DataFrame.\n",
      "Try using .loc[row_indexer,col_indexer] = value instead\n",
      "\n",
      "See the caveats in the documentation: http://pandas.pydata.org/pandas-docs/stable/indexing.html#indexing-view-versus-copy\n",
      "  import sys\n",
      "/usr/local/lib/python2.7/dist-packages/ipykernel_launcher.py:14: SettingWithCopyWarning: \n",
      "A value is trying to be set on a copy of a slice from a DataFrame\n",
      "\n",
      "See the caveats in the documentation: http://pandas.pydata.org/pandas-docs/stable/indexing.html#indexing-view-versus-copy\n",
      "  \n"
     ]
    },
    {
     "name": "stdout",
     "output_type": "stream",
     "text": [
      "(5, 'ELA', (19, 165), (13, 165), 11.692307692307692, 6.684210526315789, 2.6842105263157894)\n",
      "(5, 'Math', (33, 165), (21, 165), 14.761904761904763, 8.454545454545455, 4.575757575757576)\n",
      "(6, 'ELA', (59, 165), (41, 165), 13.097560975609756, 7.406779661016949, 3.559322033898305)\n",
      "(6, 'Math', (94, 165), (73, 165), 17.273972602739725, 8.393617021276595, 7.117021276595745)\n",
      "(7, 'ELA', (38, 165), (26, 165), 11.846153846153847, 5.2105263157894735, 4.657894736842105)\n",
      "(7, 'Math', (55, 165), (42, 165), 15.476190476190476, 6.545454545454546, 6.2727272727272725)\n",
      "(8, 'ELA', (64, 165), (50, 165), 10.96, 4.40625, 5.28125)\n",
      "(8, 'Math', (49, 165), (35, 165), 15.628571428571428, 5.755102040816326, 6.653061224489796)\n"
     ]
    },
    {
     "data": {
      "image/png": "[encoded data removed]",
      "text/plain": [
       "<matplotlib.figure.Figure at 0x7f74568b3dd0>"
      ]
     },
     "metadata": {},
     "output_type": "display_data"
    }
   ],
   "source": [
    "grades = [5,6,7,8]\n",
    "subjects = ['ELA', 'Math']\n",
    "i=1\n",
    "plt.figure(figsize=[19,10])\n",
    "df_all_schools = pd.DataFrame(columns=dfmerged.columns)\n",
    "for grade,subject in itertools.product(grades, subjects):\n",
    "    df_schools_tmp = grade_minority_percent_4s(dfmerged, grade, subject)\n",
    "    \n",
    "#     df_schools_tmp[]\n",
    "    fname = ('Grade %d %s Minority 4s')%(grade, subject)\n",
    "    plt.subplot(4,2,i)\n",
    "    df_schools_tmp[fname].hist()\n",
    "    df_help_schools = df_schools_tmp.copy(deep=True)\n",
    "    df_schools_tmp.drop([fname], axis=1, inplace=True)\n",
    "    plt.title(fname)\n",
    "    df_all_schools = pd.concat([df_all_schools, df_schools_tmp])\n",
    "    i += 1"
   ]
  },
  {
   "cell_type": "code",
   "execution_count": 13,
   "metadata": {},
   "outputs": [],
   "source": [
    "df_help_schools = df_help_schools[df_help_schools['Grade 8 Math Minority 4s']>0.7]"
   ]
  },
  {
   "cell_type": "code",
   "execution_count": 14,
   "metadata": {},
   "outputs": [
    {
     "data": {
      "text/plain": [
       "(array([4., 2., 5., 5., 6., 4., 4., 1., 1., 3.]),\n",
       " array([ 6. , 10.3, 14.6, 18.9, 23.2, 27.5, 31.8, 36.1, 40.4, 44.7, 49. ]),\n",
       " <a list of 10 Patch objects>)"
      ]
     },
     "execution_count": 14,
     "metadata": {},
     "output_type": "execute_result"
    },
    {
     "data": {
      "image/png": "[encoded data removed]",
      "text/plain": [
       "<matplotlib.figure.Figure at 0x7f74567f1c10>"
      ]
     },
     "metadata": {},
     "output_type": "display_data"
    }
   ],
   "source": [
    "plt.hist(df_help_schools['Number of students who took test'])"
   ]
  },
  {
   "cell_type": "code",
   "execution_count": 15,
   "metadata": {},
   "outputs": [
    {
     "data": {
      "text/plain": [
       "(array([ 0.,  0.,  0.,  0.,  0., 35.,  0.,  0.,  0.,  0.]),\n",
       " array([-0.5, -0.4, -0.3, -0.2, -0.1,  0. ,  0.1,  0.2,  0.3,  0.4,  0.5]),\n",
       " <a list of 10 Patch objects>)"
      ]
     },
     "execution_count": 15,
     "metadata": {},
     "output_type": "execute_result"
    },
    {
     "data": {
      "image/png": "[encoded data removed]",
      "text/plain": [
       "<matplotlib.figure.Figure at 0x7f7452e79790>"
      ]
     },
     "metadata": {},
     "output_type": "display_data"
    }
   ],
   "source": [
    "plt.hist(df_help_schools['Number of students who received offer'])"
   ]
  },
  {
   "cell_type": "code",
   "execution_count": 16,
   "metadata": {},
   "outputs": [
    {
     "data": {
      "text/plain": [
       "(35, 165)"
      ]
     },
     "execution_count": 16,
     "metadata": {},
     "output_type": "execute_result"
    }
   ],
   "source": [
    "df_help_schools.shape"
   ]
  },
  {
   "cell_type": "code",
   "execution_count": null,
   "metadata": {},
   "outputs": [],
   "source": []
  }
 ],
 "metadata": {
  "kernelspec": {
   "display_name": "Python 2",
   "language": "python",
   "name": "python2"
  },
  "language_info": {
   "codemirror_mode": {
    "name": "ipython",
    "version": 2
   },
   "file_extension": ".py",
   "mimetype": "text/x-python",
   "name": "python",
   "nbconvert_exporter": "python",
   "pygments_lexer": "ipython2",
   "version": "2.7.12"
  }
 },
 "nbformat": 4,
 "nbformat_minor": 2
}
