{
 "cells": [
  {
   "cell_type": "code",
   "execution_count": 1,
   "metadata": {},
   "outputs": [],
   "source": [
    "import re\n",
    "\n",
    "import numpy as np\n",
    "import pandas as pd\n",
    "\n",
    "import folium\n",
    "import seaborn as sns\n",
    "import matplotlib.pyplot as plt"
   ]
  },
  {
   "cell_type": "code",
   "execution_count": 2,
   "metadata": {},
   "outputs": [],
   "source": [
    "df_crime = pd.read_csv('/home/aberforth/Downloads/ny-2010-2016-school-safety-report/2010-2016-school-safety-report.csv')"
   ]
  },
  {
   "cell_type": "code",
   "execution_count": 3,
   "metadata": {},
   "outputs": [],
   "source": [
    "df_year = df_crime.groupby(['School Year'])"
   ]
  },
  {
   "cell_type": "code",
   "execution_count": 4,
   "metadata": {},
   "outputs": [],
   "source": [
    "df_year_dict = {}\n",
    "for item in df_year:\n",
    "    df_year_dict[item[0]] = item[1]"
   ]
  },
  {
   "cell_type": "code",
   "execution_count": 5,
   "metadata": {},
   "outputs": [],
   "source": [
    "x, feq = np.unique(df_year_dict['2014-15']['DBN'], return_counts=True)\n",
    "repeating_dbn = list(x[feq>1])"
   ]
  },
  {
   "cell_type": "code",
   "execution_count": 6,
   "metadata": {},
   "outputs": [],
   "source": [
    "df_schools = pd.read_csv('/home/aberforth/kaggle/passnyc_data_science_for_good/input/2016 School Explorer.csv')"
   ]
  },
  {
   "cell_type": "code",
   "execution_count": 7,
   "metadata": {},
   "outputs": [],
   "source": [
    "for col in df_schools.columns.values:\n",
    "    if col.startswith(\"Percent\") or col.endswith(\"%\") or col.endswith(\"Rate\"):\n",
    "        df_schools[col] = df_schools[col].astype(np.object).str.replace('%', '').astype(float)"
   ]
  },
  {
   "cell_type": "code",
   "execution_count": 8,
   "metadata": {},
   "outputs": [
    {
     "data": {
      "text/plain": [
       "626"
      ]
     },
     "execution_count": 8,
     "metadata": {},
     "output_type": "execute_result"
    }
   ],
   "source": [
    "df_schools = df_schools[df_schools['Grade High'] != '0K']\n",
    "df_schools = df_schools[df_schools['Grade High'].astype(int) > 5]\n",
    "len(df_schools[df_schools['Grade High'].astype(int) > 5])"
   ]
  },
  {
   "cell_type": "code",
   "execution_count": 9,
   "metadata": {},
   "outputs": [],
   "source": [
    "df_schools.dropna(subset=['Rigorous Instruction %',\n",
    "'Collaborative Teachers %',\n",
    "'Supportive Environment %',\n",
    "'Effective School Leadership %',\n",
    "'Strong Family-Community Ties %',\n",
    "'Trust %'], inplace = True)"
   ]
  },
  {
   "cell_type": "code",
   "execution_count": 10,
   "metadata": {},
   "outputs": [
    {
     "data": {
      "text/html": [
       "<div>\n",
       "<style scoped>\n",
       "    .dataframe tbody tr th:only-of-type {\n",
       "        vertical-align: middle;\n",
       "    }\n",
       "\n",
       "    .dataframe tbody tr th {\n",
       "        vertical-align: top;\n",
       "    }\n",
       "\n",
       "    .dataframe thead th {\n",
       "        text-align: right;\n",
       "    }\n",
       "</style>\n",
       "<table border=\"1\" class=\"dataframe\">\n",
       "  <thead>\n",
       "    <tr style=\"text-align: right;\">\n",
       "      <th></th>\n",
       "      <th>Rigorous Instruction %</th>\n",
       "      <th>Supportive Environment %</th>\n",
       "      <th>Effective School Leadership %</th>\n",
       "      <th>Strong Family-Community Ties %</th>\n",
       "      <th>SPI</th>\n",
       "    </tr>\n",
       "  </thead>\n",
       "  <tbody>\n",
       "    <tr>\n",
       "      <th>3</th>\n",
       "      <td>85.0</td>\n",
       "      <td>82.0</td>\n",
       "      <td>73.0</td>\n",
       "      <td>89.0</td>\n",
       "      <td>245.6</td>\n",
       "    </tr>\n",
       "    <tr>\n",
       "      <th>8</th>\n",
       "      <td>94.0</td>\n",
       "      <td>85.0</td>\n",
       "      <td>87.0</td>\n",
       "      <td>83.0</td>\n",
       "      <td>262.6</td>\n",
       "    </tr>\n",
       "    <tr>\n",
       "      <th>10</th>\n",
       "      <td>90.0</td>\n",
       "      <td>91.0</td>\n",
       "      <td>67.0</td>\n",
       "      <td>83.0</td>\n",
       "      <td>251.4</td>\n",
       "    </tr>\n",
       "    <tr>\n",
       "      <th>11</th>\n",
       "      <td>100.0</td>\n",
       "      <td>99.0</td>\n",
       "      <td>99.0</td>\n",
       "      <td>92.0</td>\n",
       "      <td>294.3</td>\n",
       "    </tr>\n",
       "    <tr>\n",
       "      <th>12</th>\n",
       "      <td>72.0</td>\n",
       "      <td>77.0</td>\n",
       "      <td>72.0</td>\n",
       "      <td>76.0</td>\n",
       "      <td>223.0</td>\n",
       "    </tr>\n",
       "  </tbody>\n",
       "</table>\n",
       "</div>"
      ],
      "text/plain": [
       "    Rigorous Instruction %  Supportive Environment %  \\\n",
       "3                     85.0                      82.0   \n",
       "8                     94.0                      85.0   \n",
       "10                    90.0                      91.0   \n",
       "11                   100.0                      99.0   \n",
       "12                    72.0                      77.0   \n",
       "\n",
       "    Effective School Leadership %  Strong Family-Community Ties %    SPI  \n",
       "3                            73.0                            89.0  245.6  \n",
       "8                            87.0                            83.0  262.6  \n",
       "10                           67.0                            83.0  251.4  \n",
       "11                           99.0                            92.0  294.3  \n",
       "12                           72.0                            76.0  223.0  "
      ]
     },
     "execution_count": 10,
     "metadata": {},
     "output_type": "execute_result"
    }
   ],
   "source": [
    "features = ['Rigorous Instruction %','Supportive Environment %','Effective School Leadership %',\n",
    "            'Strong Family-Community Ties %']\n",
    "weights = [0.8, 1, 0.7, 0.5]\n",
    "\n",
    "df_schools['SPI'] = df_schools[features].dot(weights)\n",
    "\n",
    "df_schools[features+['SPI']].head(5)"
   ]
  },
  {
   "cell_type": "code",
   "execution_count": 11,
   "metadata": {},
   "outputs": [],
   "source": [
    "intersection = set(df_crime['DBN']).intersection(set(df_schools['Location Code']))"
   ]
  },
  {
   "cell_type": "code",
   "execution_count": 12,
   "metadata": {},
   "outputs": [
    {
     "name": "stdout",
     "output_type": "stream",
     "text": [
      "149    COLUMBIA SECONDARY SCHOOL\n",
      "Name: School Name, dtype: object\n",
      "2988                Columbia Secondary School\n",
      "2989    KIPP STAR College Prep Charter School\n",
      "Name: Location Name, dtype: object\n",
      "\n",
      "637    I.S. 364 GATEWAY\n",
      "Name: School Name, dtype: object\n",
      "2628    I.S. 364 Gateway\n",
      "2819    IS 364 ANNEX(BN)\n",
      "Name: Location Name, dtype: object\n",
      "\n",
      "Series([], Name: School Name, dtype: object)\n",
      "3724             P25 ANNEX ARTHUR KILL ROAD(SI)\n",
      "3725    South Richmond High School I.S./P.S. 25\n",
      "Name: Location Name, dtype: object\n",
      "\n"
     ]
    }
   ],
   "source": [
    "for dbn in list(x[feq>1]):\n",
    "    print df_schools[df_schools['Location Code'] == dbn]['School Name']\n",
    "    print df_year_dict['2014-15'][df_year_dict['2014-15']['DBN'] == dbn]['Location Name']\n",
    "    print"
   ]
  },
  {
   "cell_type": "code",
   "execution_count": 13,
   "metadata": {},
   "outputs": [
    {
     "data": {
      "text/plain": [
       "541"
      ]
     },
     "execution_count": 13,
     "metadata": {},
     "output_type": "execute_result"
    }
   ],
   "source": [
    "len(intersection)"
   ]
  },
  {
   "cell_type": "code",
   "execution_count": 14,
   "metadata": {},
   "outputs": [
    {
     "data": {
      "text/plain": [
       "array(['School Year', 'Building Code', 'DBN', 'Location Name',\n",
       "       'Location Code', 'Address', 'Borough',\n",
       "       'Geographical District Code', 'Register', 'Building Name',\n",
       "       '# Schools', 'Schools in Building', 'Major N', 'Oth N', 'NoCrim N',\n",
       "       'Prop N', 'Vio N', 'ENGroupA', 'RangeA', 'AvgOfMajor N',\n",
       "       'AvgOfOth N', 'AvgOfNoCrim N', 'AvgOfProp N', 'AvgOfVio N',\n",
       "       'Borough Name', 'Postcode', 'Latitude', 'Longitude',\n",
       "       'Community Board', 'Council District ', 'Census Tract', 'BIN',\n",
       "       'BBL', 'NTA'], dtype=object)"
      ]
     },
     "execution_count": 14,
     "metadata": {},
     "output_type": "execute_result"
    }
   ],
   "source": [
    "df_crime.columns.values"
   ]
  },
  {
   "cell_type": "markdown",
   "metadata": {},
   "source": [
    "<b> The data given spans over 3 school years -- 2013-14, 2014-15, 2015-16 <br>\n",
    "<b> Adding the crime rates over 3 years for each school"
   ]
  },
  {
   "cell_type": "code",
   "execution_count": 15,
   "metadata": {},
   "outputs": [],
   "source": [
    "crimes_col = ['Major N', 'Oth N', 'NoCrim N', 'Prop N', 'Vio N']\n",
    "crimes = df_crime.groupby(['DBN'], as_index=False)[crimes_col].sum()"
   ]
  },
  {
   "cell_type": "markdown",
   "metadata": {},
   "source": [
    "<b> Merging the data for crimes with original school data to gain more insights"
   ]
  },
  {
   "cell_type": "code",
   "execution_count": 16,
   "metadata": {
    "scrolled": true
   },
   "outputs": [
    {
     "name": "stdout",
     "output_type": "stream",
     "text": [
      "541\n"
     ]
    }
   ],
   "source": [
    "merged_df = pd.merge(crimes, df_schools, how='inner', left_on=['DBN'], right_on=['Location Code'])\n",
    "print len(merged_df)"
   ]
  },
  {
   "cell_type": "markdown",
   "metadata": {},
   "source": [
    "<b>Histograms to visualize the number of crimes across various schools"
   ]
  },
  {
   "cell_type": "code",
   "execution_count": 17,
   "metadata": {},
   "outputs": [
    {
     "data": {
      "image/png": "[encoded data removed]",
      "text/plain": [
       "<matplotlib.figure.Figure at 0x7f1a93905650>"
      ]
     },
     "metadata": {},
     "output_type": "display_data"
    }
   ],
   "source": [
    "plt.figure()\n",
    "ignore_nan = merged_df.dropna(subset=['Major N'])\n",
    "plt.hist(ignore_nan['Major N'][ignore_nan['Major N']!=0])\n",
    "plt.show()"
   ]
  },
  {
   "cell_type": "code",
   "execution_count": 18,
   "metadata": {},
   "outputs": [
    {
     "data": {
      "image/png": "[encoded data removed]",
      "text/plain": [
       "<matplotlib.figure.Figure at 0x7f1a938fb0d0>"
      ]
     },
     "metadata": {},
     "output_type": "display_data"
    }
   ],
   "source": [
    "plt.figure()\n",
    "ignore_nan = merged_df.dropna(subset=['Oth N'])\n",
    "plt.hist(ignore_nan['Oth N'][ignore_nan['Oth N']!=0])\n",
    "plt.show()"
   ]
  },
  {
   "cell_type": "code",
   "execution_count": 19,
   "metadata": {},
   "outputs": [
    {
     "data": {
      "image/png": "[encoded data removed]",
      "text/plain": [
       "<matplotlib.figure.Figure at 0x7f1a9168bdd0>"
      ]
     },
     "metadata": {},
     "output_type": "display_data"
    }
   ],
   "source": [
    "plt.figure()\n",
    "ignore_nan = merged_df.dropna(subset=['NoCrim N'])\n",
    "plt.hist(ignore_nan['NoCrim N'][ignore_nan['NoCrim N']!=0])\n",
    "plt.show()"
   ]
  },
  {
   "cell_type": "code",
   "execution_count": 20,
   "metadata": {},
   "outputs": [
    {
     "data": {
      "image/png": "[encoded data removed]",
      "text/plain": [
       "<matplotlib.figure.Figure at 0x7f1a91619690>"
      ]
     },
     "metadata": {},
     "output_type": "display_data"
    }
   ],
   "source": [
    "plt.figure()\n",
    "ignore_nan = merged_df.dropna(subset=['Prop N'])\n",
    "plt.hist(ignore_nan['Prop N'][ignore_nan['Prop N']!=0])\n",
    "plt.show()"
   ]
  },
  {
   "cell_type": "code",
   "execution_count": 21,
   "metadata": {},
   "outputs": [
    {
     "data": {
      "image/png": "[encoded data removed]",
      "text/plain": [
       "<matplotlib.figure.Figure at 0x7f1a91508890>"
      ]
     },
     "metadata": {},
     "output_type": "display_data"
    }
   ],
   "source": [
    "plt.figure()\n",
    "ignore_nan = merged_df.dropna(subset=['Vio N'])\n",
    "# violent_df = ignore_nan['Vio N'][ignore_nan['Vio N']!=0]\n",
    "plt.hist(ignore_nan['Vio N'][ignore_nan['Vio N']!=0])\n",
    "plt.show()"
   ]
  },
  {
   "cell_type": "markdown",
   "metadata": {},
   "source": [
    "<b> Defining the schools where violent crimes are high"
   ]
  },
  {
   "cell_type": "code",
   "execution_count": 22,
   "metadata": {},
   "outputs": [
    {
     "name": "stdout",
     "output_type": "stream",
     "text": [
      "43\n"
     ]
    }
   ],
   "source": [
    "violent_df = ignore_nan[ignore_nan['Vio N'] > 4]\n",
    "print len(violent_df)"
   ]
  },
  {
   "cell_type": "code",
   "execution_count": 23,
   "metadata": {},
   "outputs": [],
   "source": [
    "violent_schools = violent_df['DBN']"
   ]
  },
  {
   "cell_type": "code",
   "execution_count": 24,
   "metadata": {},
   "outputs": [],
   "source": [
    "poor_schools_df = merged_df[merged_df['SPI'] < merged_df['SPI'].quantile(0.25)]\n",
    "poor_schools = poor_schools_df['Location Code']"
   ]
  },
  {
   "cell_type": "code",
   "execution_count": 25,
   "metadata": {},
   "outputs": [],
   "source": [
    "poor_intersect_violent = set(violent_schools).intersection(set(poor_schools))"
   ]
  },
  {
   "cell_type": "code",
   "execution_count": 26,
   "metadata": {},
   "outputs": [
    {
     "data": {
      "text/plain": [
       "19"
      ]
     },
     "execution_count": 26,
     "metadata": {},
     "output_type": "execute_result"
    }
   ],
   "source": [
    "len(poor_intersect_violent)"
   ]
  },
  {
   "cell_type": "code",
   "execution_count": 27,
   "metadata": {},
   "outputs": [
    {
     "name": "stdout",
     "output_type": "stream",
     "text": [
      "0.2187918528192016\n"
     ]
    }
   ],
   "source": [
    "print ((violent_df['Economic Need Index']).astype(float)).corr(violent_df['SPI'])"
   ]
  },
  {
   "cell_type": "markdown",
   "metadata": {},
   "source": [
    "<b> Listing schools with high number of major crimes"
   ]
  },
  {
   "cell_type": "code",
   "execution_count": 28,
   "metadata": {},
   "outputs": [
    {
     "name": "stdout",
     "output_type": "stream",
     "text": [
      "33\n"
     ]
    }
   ],
   "source": [
    "ignore_nan = merged_df.dropna(subset=['Major N'])\n",
    "major_crime_df = ignore_nan[ignore_nan['Major N'] > 2]\n",
    "print len(major_crime_df)\n",
    "major_crime_schools = major_crime_df['DBN']"
   ]
  },
  {
   "cell_type": "code",
   "execution_count": 29,
   "metadata": {},
   "outputs": [],
   "source": [
    "poor_intersect_majorCrime = set(major_crime_schools).intersection(set(poor_schools))"
   ]
  },
  {
   "cell_type": "code",
   "execution_count": 30,
   "metadata": {},
   "outputs": [
    {
     "data": {
      "text/plain": [
       "16"
      ]
     },
     "execution_count": 30,
     "metadata": {},
     "output_type": "execute_result"
    }
   ],
   "source": [
    "len(poor_intersect_majorCrime)"
   ]
  },
  {
   "cell_type": "markdown",
   "metadata": {},
   "source": [
    "<b> Check the correlation between numbers of differnt crimes"
   ]
  },
  {
   "cell_type": "code",
   "execution_count": 31,
   "metadata": {},
   "outputs": [
    {
     "data": {
      "text/html": [
       "<div>\n",
       "<style scoped>\n",
       "    .dataframe tbody tr th:only-of-type {\n",
       "        vertical-align: middle;\n",
       "    }\n",
       "\n",
       "    .dataframe tbody tr th {\n",
       "        vertical-align: top;\n",
       "    }\n",
       "\n",
       "    .dataframe thead th {\n",
       "        text-align: right;\n",
       "    }\n",
       "</style>\n",
       "<table border=\"1\" class=\"dataframe\">\n",
       "  <thead>\n",
       "    <tr style=\"text-align: right;\">\n",
       "      <th></th>\n",
       "      <th>Major N</th>\n",
       "      <th>Oth N</th>\n",
       "      <th>NoCrim N</th>\n",
       "      <th>Prop N</th>\n",
       "      <th>Vio N</th>\n",
       "    </tr>\n",
       "  </thead>\n",
       "  <tbody>\n",
       "    <tr>\n",
       "      <th>Major N</th>\n",
       "      <td>1.000000</td>\n",
       "      <td>0.746759</td>\n",
       "      <td>0.682164</td>\n",
       "      <td>0.807288</td>\n",
       "      <td>0.772462</td>\n",
       "    </tr>\n",
       "    <tr>\n",
       "      <th>Oth N</th>\n",
       "      <td>0.746759</td>\n",
       "      <td>1.000000</td>\n",
       "      <td>0.869463</td>\n",
       "      <td>0.932849</td>\n",
       "      <td>0.890065</td>\n",
       "    </tr>\n",
       "    <tr>\n",
       "      <th>NoCrim N</th>\n",
       "      <td>0.682164</td>\n",
       "      <td>0.869463</td>\n",
       "      <td>1.000000</td>\n",
       "      <td>0.785599</td>\n",
       "      <td>0.800293</td>\n",
       "    </tr>\n",
       "    <tr>\n",
       "      <th>Prop N</th>\n",
       "      <td>0.807288</td>\n",
       "      <td>0.932849</td>\n",
       "      <td>0.785599</td>\n",
       "      <td>1.000000</td>\n",
       "      <td>0.744577</td>\n",
       "    </tr>\n",
       "    <tr>\n",
       "      <th>Vio N</th>\n",
       "      <td>0.772462</td>\n",
       "      <td>0.890065</td>\n",
       "      <td>0.800293</td>\n",
       "      <td>0.744577</td>\n",
       "      <td>1.000000</td>\n",
       "    </tr>\n",
       "  </tbody>\n",
       "</table>\n",
       "</div>"
      ],
      "text/plain": [
       "           Major N     Oth N  NoCrim N    Prop N     Vio N\n",
       "Major N   1.000000  0.746759  0.682164  0.807288  0.772462\n",
       "Oth N     0.746759  1.000000  0.869463  0.932849  0.890065\n",
       "NoCrim N  0.682164  0.869463  1.000000  0.785599  0.800293\n",
       "Prop N    0.807288  0.932849  0.785599  1.000000  0.744577\n",
       "Vio N     0.772462  0.890065  0.800293  0.744577  1.000000"
      ]
     },
     "execution_count": 31,
     "metadata": {},
     "output_type": "execute_result"
    }
   ],
   "source": [
    "crimes[crimes_col].corr()"
   ]
  },
  {
   "cell_type": "markdown",
   "metadata": {},
   "source": [
    "<b> As the features are highly correlated, we apply PCA to reduce the number of features"
   ]
  },
  {
   "cell_type": "code",
   "execution_count": 32,
   "metadata": {},
   "outputs": [],
   "source": [
    "features_5 = merged_df[crimes_col].values"
   ]
  },
  {
   "cell_type": "code",
   "execution_count": 33,
   "metadata": {},
   "outputs": [],
   "source": [
    "from sklearn.decomposition import PCA\n",
    "\n",
    "school_crime_pca = PCA(n_components=1)\n",
    "school_crime_pca.fit(features_5)\n",
    "school_crime_pca_results = school_crime_pca.transform(features_5)"
   ]
  },
  {
   "cell_type": "code",
   "execution_count": 34,
   "metadata": {},
   "outputs": [
    {
     "name": "stdout",
     "output_type": "stream",
     "text": [
      "[0.88755962]\n"
     ]
    }
   ],
   "source": [
    "print school_crime_pca.explained_variance_ratio_"
   ]
  },
  {
   "cell_type": "code",
   "execution_count": 35,
   "metadata": {},
   "outputs": [
    {
     "data": {
      "image/png": "[encoded data removed]",
      "text/plain": [
       "<matplotlib.figure.Figure at 0x7f1a8dda71d0>"
      ]
     },
     "metadata": {},
     "output_type": "display_data"
    }
   ],
   "source": [
    "plt.plot(list(school_crime_pca.explained_variance_ratio_),'-o')\n",
    "plt.title('Explained variance ratio as function of PCA components')\n",
    "plt.ylabel('Explained variance ratio')\n",
    "plt.xlabel('Component')\n",
    "plt.show()"
   ]
  },
  {
   "cell_type": "code",
   "execution_count": 36,
   "metadata": {},
   "outputs": [],
   "source": [
    "school_crime_pca = PCA(n_components=1)\n",
    "reduced_crime_features = school_crime_pca.fit_transform(features_5)"
   ]
  },
  {
   "cell_type": "code",
   "execution_count": 37,
   "metadata": {},
   "outputs": [],
   "source": [
    "adjusted_reduced_crime_features = reduced_crime_features + abs(min(reduced_crime_features))"
   ]
  },
  {
   "cell_type": "code",
   "execution_count": 38,
   "metadata": {},
   "outputs": [],
   "source": [
    "merged_df['SSI'] = adjusted_reduced_crime_features[:,0]"
   ]
  },
  {
   "cell_type": "code",
   "execution_count": 39,
   "metadata": {},
   "outputs": [
    {
     "data": {
      "text/plain": [
       "count    541.000000\n",
       "mean       3.814301\n",
       "std        7.189951\n",
       "min        0.000000\n",
       "25%        0.000000\n",
       "50%        0.000000\n",
       "75%        5.126890\n",
       "max       53.650202\n",
       "Name: SSI, dtype: float64"
      ]
     },
     "execution_count": 39,
     "metadata": {},
     "output_type": "execute_result"
    }
   ],
   "source": [
    "merged_df['SSI'].describe()"
   ]
  },
  {
   "cell_type": "code",
   "execution_count": 40,
   "metadata": {},
   "outputs": [
    {
     "data": {
      "text/plain": [
       "0.8669424204723427"
      ]
     },
     "execution_count": 40,
     "metadata": {},
     "output_type": "execute_result"
    }
   ],
   "source": [
    "merged_df['SSI'].corr(merged_df['Prop N'])"
   ]
  },
  {
   "cell_type": "markdown",
   "metadata": {},
   "source": [
    "<b>Correlation of SSI with SPI, ENI and attendance"
   ]
  },
  {
   "cell_type": "code",
   "execution_count": 41,
   "metadata": {},
   "outputs": [
    {
     "data": {
      "text/plain": [
       "-0.24223232279896015"
      ]
     },
     "execution_count": 41,
     "metadata": {},
     "output_type": "execute_result"
    }
   ],
   "source": [
    "merged_df['SSI'].corr(merged_df['SPI'])"
   ]
  },
  {
   "cell_type": "code",
   "execution_count": 42,
   "metadata": {},
   "outputs": [
    {
     "data": {
      "text/plain": [
       "-0.008350580045569492"
      ]
     },
     "execution_count": 42,
     "metadata": {},
     "output_type": "execute_result"
    }
   ],
   "source": [
    "merged_df['SSI'].corr(merged_df['Economic Need Index'])"
   ]
  },
  {
   "cell_type": "code",
   "execution_count": 43,
   "metadata": {},
   "outputs": [
    {
     "data": {
      "text/plain": [
       "0.10948647954632297"
      ]
     },
     "execution_count": 43,
     "metadata": {},
     "output_type": "execute_result"
    }
   ],
   "source": [
    "merged_df['SSI'].corr(merged_df['Percent of Students Chronically Absent'])"
   ]
  },
  {
   "cell_type": "code",
   "execution_count": 44,
   "metadata": {},
   "outputs": [
    {
     "data": {
      "text/plain": [
       "-0.024115486754680296"
      ]
     },
     "execution_count": 44,
     "metadata": {},
     "output_type": "execute_result"
    }
   ],
   "source": [
    "merged_df['SSI'].corr(merged_df['Percent Black / Hispanic'])"
   ]
  },
  {
   "cell_type": "markdown",
   "metadata": {},
   "source": [
    "<b> Schools with high SSI are marked as risky"
   ]
  },
  {
   "cell_type": "code",
   "execution_count": 45,
   "metadata": {},
   "outputs": [],
   "source": [
    "risky_schools_df = merged_df[merged_df['SSI']>5]\n",
    "risky_schools = risky_schools_df['DBN']"
   ]
  },
  {
   "cell_type": "code",
   "execution_count": 46,
   "metadata": {},
   "outputs": [
    {
     "data": {
      "text/plain": [
       "52"
      ]
     },
     "execution_count": 46,
     "metadata": {},
     "output_type": "execute_result"
    }
   ],
   "source": [
    "len(set(risky_schools).intersection(set(poor_schools)))"
   ]
  },
  {
   "cell_type": "markdown",
   "metadata": {},
   "source": [
    "<b> Schools with high absentees"
   ]
  },
  {
   "cell_type": "code",
   "execution_count": 47,
   "metadata": {},
   "outputs": [],
   "source": [
    "high_absent_df = merged_df[merged_df['Percent of Students Chronically Absent']>40]\n",
    "high_absent = high_absent_df['DBN']"
   ]
  },
  {
   "cell_type": "code",
   "execution_count": 48,
   "metadata": {},
   "outputs": [
    {
     "data": {
      "text/plain": [
       "41"
      ]
     },
     "execution_count": 48,
     "metadata": {},
     "output_type": "execute_result"
    }
   ],
   "source": [
    "len(high_absent)"
   ]
  },
  {
   "cell_type": "code",
   "execution_count": 49,
   "metadata": {},
   "outputs": [
    {
     "data": {
      "text/plain": [
       "16"
      ]
     },
     "execution_count": 49,
     "metadata": {},
     "output_type": "execute_result"
    }
   ],
   "source": [
    "len(set(risky_schools).intersection(set(high_absent)))"
   ]
  },
  {
   "cell_type": "markdown",
   "metadata": {},
   "source": [
    "<b> Correlation of SSI and SPI"
   ]
  },
  {
   "cell_type": "code",
   "execution_count": 50,
   "metadata": {},
   "outputs": [
    {
     "data": {
      "text/plain": [
       "-0.24223232279896015"
      ]
     },
     "execution_count": 50,
     "metadata": {},
     "output_type": "execute_result"
    }
   ],
   "source": [
    "merged_df['SSI'].corr(merged_df['SPI'])"
   ]
  },
  {
   "cell_type": "code",
   "execution_count": 51,
   "metadata": {},
   "outputs": [
    {
     "data": {
      "text/plain": [
       "0.10948647954632297"
      ]
     },
     "execution_count": 51,
     "metadata": {},
     "output_type": "execute_result"
    }
   ],
   "source": [
    "merged_df['SSI'].corr(merged_df['Percent of Students Chronically Absent'])"
   ]
  },
  {
   "cell_type": "code",
   "execution_count": 52,
   "metadata": {},
   "outputs": [
    {
     "name": "stdout",
     "output_type": "stream",
     "text": [
      "0.08711123985517417\n",
      "0.08635570392102343\n",
      "0.11652050108442742\n",
      "0.03062210157792802\n",
      "0.1640728526230517\n"
     ]
    }
   ],
   "source": [
    "for col in crimes_col:\n",
    "    print ((merged_df['Percent of Students Chronically Absent']).astype(int)).corr(merged_df[col])"
   ]
  },
  {
   "cell_type": "code",
   "execution_count": 53,
   "metadata": {},
   "outputs": [],
   "source": [
    "eni_non_nan = merged_df.dropna(subset = ['Economic Need Index'])"
   ]
  },
  {
   "cell_type": "code",
   "execution_count": 54,
   "metadata": {
    "scrolled": true
   },
   "outputs": [
    {
     "name": "stdout",
     "output_type": "stream",
     "text": [
      "-0.003948654210346705\n",
      "-0.015285678897850027\n",
      "-0.0034805977041548466\n",
      "-0.05805057011701649\n",
      "0.04722186359034848\n"
     ]
    }
   ],
   "source": [
    "for col in crimes_col:\n",
    "    print ((eni_non_nan['Economic Need Index']).astype(float)).corr(eni_non_nan[col])"
   ]
  },
  {
   "cell_type": "code",
   "execution_count": 55,
   "metadata": {
    "scrolled": true
   },
   "outputs": [
    {
     "name": "stdout",
     "output_type": "stream",
     "text": [
      "-0.23185084028070127\n",
      "-0.3579741141740324\n",
      "-0.3999838341073044\n",
      "-0.2931254645367997\n",
      "-0.15914798747466033\n"
     ]
    }
   ],
   "source": [
    "for col in crimes_col:\n",
    "    print ((merged_df['SPI']).astype(float)).corr(merged_df[col][merged_df[col]!=0])"
   ]
  },
  {
   "cell_type": "code",
   "execution_count": 56,
   "metadata": {
    "scrolled": true
   },
   "outputs": [
    {
     "name": "stdout",
     "output_type": "stream",
     "text": [
      "-0.12675354795440066\n",
      "-0.22710582826942988\n",
      "-0.24112727029139838\n",
      "-0.18885752748757126\n",
      "-0.21025586604180513\n"
     ]
    }
   ],
   "source": [
    "for col in crimes_col:\n",
    "    print ((merged_df['SPI']).astype(float)).corr(merged_df[col])"
   ]
  }
 ],
 "metadata": {
  "kernelspec": {
   "display_name": "Python 2",
   "language": "python",
   "name": "python2"
  },
  "language_info": {
   "codemirror_mode": {
    "name": "ipython",
    "version": 2
   },
   "file_extension": ".py",
   "mimetype": "text/x-python",
   "name": "python",
   "nbconvert_exporter": "python",
   "pygments_lexer": "ipython2",
   "version": "2.7.6"
  }
 },
 "nbformat": 4,
 "nbformat_minor": 2
}
